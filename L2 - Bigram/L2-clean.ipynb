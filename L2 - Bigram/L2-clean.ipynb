{
 "cells": [
  {
   "cell_type": "code",
   "execution_count": 1,
   "id": "6d6298bd-dd6f-4083-90fc-0339691ff64b",
   "metadata": {},
   "outputs": [],
   "source": [
    "# implementing just the main network for posterity\n",
    "\n",
    "import torch\n",
    "import torch.nn.functional as F\n",
    "\n",
    "words = open('names.txt', 'r').read().splitlines()\n",
    "\n",
    "chars = sorted(list(set(\"\".join(words))))\n",
    "stoi = {s:i+1 for i, s in enumerate(chars)}\n",
    "stoi[\".\"] = 0\n",
    "itos = {i:s for s,i in stoi.items()}"
   ]
  },
  {
   "cell_type": "code",
   "execution_count": 2,
   "id": "4070a2ef-de32-430b-bd51-96b5146b7488",
   "metadata": {},
   "outputs": [],
   "source": [
    "xs = []\n",
    "ys = []\n",
    "\n",
    "for w in words:\n",
    "  chs = ['.'] + list(w) + ['.']\n",
    "  for ch1, ch2 in zip(chs, chs[1:]):\n",
    "    ix1 = stoi[ch1]\n",
    "    ix2 = stoi[ch2]\n",
    "    xs.append(ix1)\n",
    "    ys.append(ix2)\n",
    "\n",
    "xs = torch.tensor(xs)\n",
    "ys = torch.tensor(ys)"
   ]
  },
  {
   "cell_type": "code",
   "execution_count": 3,
   "id": "32cbd828-1ae4-4241-838b-55e692ac5dcd",
   "metadata": {},
   "outputs": [],
   "source": [
    "g = torch.Generator().manual_seed(2147483647)\n",
    "W = torch.randn((27, 27), generator=g, requires_grad=True)"
   ]
  },
  {
   "cell_type": "code",
   "execution_count": 28,
   "id": "90b73a6d-bc05-4928-bc21-e41299efefb7",
   "metadata": {},
   "outputs": [
    {
     "name": "stdout",
     "output_type": "stream",
     "text": [
      "2.475414276123047\n"
     ]
    }
   ],
   "source": [
    "# gradient descent\n",
    "\n",
    "n_iter = 10\n",
    "l_rate = 50\n",
    "\n",
    "for i in range(n_iter):\n",
    "    #forward\n",
    "    x_oh = F.one_hot(xs, num_classes=27).float() # converted to float so that you can feed it into the neural net\n",
    "    logits = x_oh @ W # log-counts for each next letter\n",
    "    counts = logits.exp() # proper counts for each next letter\n",
    "    probs = counts/counts.sum(1, keepdim=True) # normalized probabilities for each next letter\n",
    "    loss = -probs[torch.arange(probs.size(0)), ys].log().mean() # loss function (vectorized)\n",
    "\n",
    "    #backward\n",
    "    W.grad = None\n",
    "    loss.backward()\n",
    "\n",
    "    #update\n",
    "    W.data -= l_rate * W.grad\n",
    "print(loss.item())\n",
    "\n",
    "# final loss: ~2.46"
   ]
  },
  {
   "cell_type": "code",
   "execution_count": 30,
   "id": "0bfe47b2-db22-4c9f-b3d5-6b8f2acd52c6",
   "metadata": {},
   "outputs": [
    {
     "data": {
      "text/plain": [
       "torch.Size([228146, 27])"
      ]
     },
     "execution_count": 30,
     "metadata": {},
     "output_type": "execute_result"
    }
   ],
   "source": [
    "logits.size()"
   ]
  },
  {
   "cell_type": "code",
   "execution_count": null,
   "id": "7cceb1a1-217d-4511-a3d0-37eaa0b551af",
   "metadata": {},
   "outputs": [
    {
     "name": "stdout",
     "output_type": "stream",
     "text": [
      "mbenda.\n",
      "daleleansah.\n",
      "alarynermiabr.\n",
      "sho.\n",
      "traelela.\n"
     ]
    }
   ],
   "source": [
    "n_names = 5\n",
    "\n",
    "for i in range(n_names):\n",
    "    w = []\n",
    "    ix = 0\n",
    "    while True:\n",
    "        x_oh = F.one_hot(torch.tensor([ix]), num_classes=27).float()\n",
    "        logits = x_oh @ W\n",
    "        counts = logits.exp()\n",
    "        probs = counts/counts.sum(1, keepdim=True)\n",
    "        \n",
    "        ix = torch.multinomial(probs, num_samples=1, replacement=True, generator=g).item()\n",
    "        w.append(itos[ix])\n",
    "        if ix == 0:\n",
    "            break\n",
    "    print(''.join(w))"
   ]
  }
 ],
 "metadata": {
  "kernelspec": {
   "display_name": "Python 3 (ipykernel)",
   "language": "python",
   "name": "python3"
  },
  "language_info": {
   "codemirror_mode": {
    "name": "ipython",
    "version": 3
   },
   "file_extension": ".py",
   "mimetype": "text/x-python",
   "name": "python",
   "nbconvert_exporter": "python",
   "pygments_lexer": "ipython3",
   "version": "3.12.5"
  }
 },
 "nbformat": 4,
 "nbformat_minor": 5
}
