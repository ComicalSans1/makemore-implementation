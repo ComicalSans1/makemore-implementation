{
 "cells": [
  {
   "cell_type": "code",
   "execution_count": 2,
   "id": "c7dceea4-2a31-414e-8b58-b3482d31296e",
   "metadata": {},
   "outputs": [
    {
     "data": {
      "text/plain": [
       "\"\\nE01: train a trigram language model, i.e. take two characters as an input to predict the 3rd one. Feel free to use either counting or a neural net. Evaluate the loss; Did it improve \\nover a bigram model?\\n\\nE02: split up the dataset randomly into 80% train set, 10% dev set, 10% test set. Train the bigram and trigram models only on the training set. Evaluate them on dev and test splits. \\nWhat can you see?\\n\\nE03: use the dev set to tune the strength of smoothing (or regularization) for the trigram model - i.e. try many possibilities and see which one works best based on the dev set loss. \\nWhat patterns can you see in the train and dev set loss as you tune this strength? Take the best setting of the smoothing and evaluate on the test set once and at the end. \\nHow good of a loss do you achieve?\\n\\nE04: we saw that our 1-hot vectors merely select a row of W, so producing these vectors explicitly feels wasteful. \\nCan you delete our use of F.one_hot in favor of simply indexing into rows of W?\\n\\nE05: look up and use F.cross_entropy instead. You should achieve the same result. Can you think of why we'd prefer to use F.cross_entropy instead?\\n\\nE06: meta-exercise! Think of a fun/interesting exercise and complete it.\\n\""
      ]
     },
     "execution_count": 2,
     "metadata": {},
     "output_type": "execute_result"
    }
   ],
   "source": [
    "\"\"\"\n",
    "E01: train a trigram language model, i.e. take two characters as an input to predict the 3rd one. Feel free to use either counting or a neural net. Evaluate the loss; Did it improve \n",
    "over a bigram model?\n",
    "\n",
    "E02: split up the dataset randomly into 80% train set, 10% dev set, 10% test set. Train the bigram and trigram models only on the training set. Evaluate them on dev and test splits. \n",
    "What can you see?\n",
    "\n",
    "E03: use the dev set to tune the strength of smoothing (or regularization) for the trigram model - i.e. try many possibilities and see which one works best based on the dev set loss. \n",
    "What patterns can you see in the train and dev set loss as you tune this strength? Take the best setting of the smoothing and evaluate on the test set once and at the end. \n",
    "How good of a loss do you achieve?\n",
    "\n",
    "E04: we saw that our 1-hot vectors merely select a row of W, so producing these vectors explicitly feels wasteful. \n",
    "Can you delete our use of F.one_hot in favor of simply indexing into rows of W?\n",
    "\n",
    "E05: look up and use F.cross_entropy instead. You should achieve the same result. Can you think of why we'd prefer to use F.cross_entropy instead?\n",
    "\n",
    "E06: meta-exercise! Think of a fun/interesting exercise and complete it.\n",
    "\"\"\""
   ]
  },
  {
   "cell_type": "code",
   "execution_count": 3,
   "id": "663f76fd-47cf-46f8-b12b-00f42e3adc3c",
   "metadata": {},
   "outputs": [],
   "source": [
    "# E01\n",
    "\n",
    "import torch\n",
    "import torch.nn.functional as F\n",
    "import matplotlib.pyplot as plt\n",
    "\n",
    "words = open('names.txt', 'r').read().splitlines()\n",
    "\n",
    "chars = sorted(list(set(\"\".join(words))))\n",
    "stoi = {s:i+1 for i, s in enumerate(chars)}\n",
    "stoi[\".\"] = 0\n",
    "itos = {i:s for s,i in stoi.items()}"
   ]
  },
  {
   "cell_type": "code",
   "execution_count": 69,
   "id": "1c1399a2-43f3-41ee-be9a-a578667812cd",
   "metadata": {},
   "outputs": [
    {
     "data": {
      "text/plain": [
       "torch.Size([32, 2, 27])"
      ]
     },
     "execution_count": 69,
     "metadata": {},
     "output_type": "execute_result"
    }
   ],
   "source": [
    "context_len = 2\n",
    "X, Y = [], []\n",
    "\n",
    "for w in words[:5]:\n",
    "    context = [0] * context_len\n",
    "\n",
    "    for l in w + '.':\n",
    "        ix = stoi[l]\n",
    "        X.append(context)\n",
    "        Y.append(ix)\n",
    "        # print(''.join([itos[i] for i in context]), \"->\", itos[ix])\n",
    "        context = context[1:] + [ix]\n",
    "\n",
    "X, Y = torch.tensor(X), torch.tensor(Y)\n",
    "X.size(), Y.size()\n",
    "X_e = torch.cat((torch.tensor([i[0] for i in X]), torch.tensor([i[1] for i in X])), 0)\n",
    "X_enc = F.one_hot(X, num_classes=27)\n",
    "\n",
    "# torch.cat((X_e[:Y.size(0)], X_e[Y.size(0):]))\n",
    "# [X_e[:Y.size(0)], X_e[Y.size(0):]]\n",
    "# x = zip(X_e[:Y.size(0)], X_e[Y.size(0):])\n",
    "# x_enc = F.one_hot(torch.tensor(x), num_classes=27)\n",
    "X_enc.size()\n",
    "X.view(Y.size(), )"
   ]
  },
  {
   "cell_type": "code",
   "execution_count": 67,
   "id": "d0eed0b7-69a4-43af-abbb-3a457a5d7bec",
   "metadata": {},
   "outputs": [
    {
     "data": {
      "text/plain": [
       "<zip at 0x1d403635f80>"
      ]
     },
     "execution_count": 67,
     "metadata": {},
     "output_type": "execute_result"
    }
   ],
   "source": [
    "x"
   ]
  },
  {
   "cell_type": "code",
   "execution_count": 54,
   "id": "cff686ff-a098-4f11-b676-1a7bf90243f4",
   "metadata": {},
   "outputs": [
    {
     "data": {
      "text/plain": [
       "tensor([ 0,  0,  5, 13, 13,  0,  0, 15, 12,  9, 22,  9,  0,  0,  1, 22,  0,  0,\n",
       "         9, 19,  1,  2,  5, 12, 12,  0,  0, 19, 15, 16,  8,  9])"
      ]
     },
     "execution_count": 54,
     "metadata": {},
     "output_type": "execute_result"
    }
   ],
   "source": [
    "X_e[:Y.size(0)]"
   ]
  },
  {
   "cell_type": "code",
   "execution_count": null,
   "id": "8821129f-cc0f-444a-8c24-bdca59d65dc2",
   "metadata": {},
   "outputs": [],
   "source": []
  }
 ],
 "metadata": {
  "kernelspec": {
   "display_name": "Python 3 (ipykernel)",
   "language": "python",
   "name": "python3"
  },
  "language_info": {
   "codemirror_mode": {
    "name": "ipython",
    "version": 3
   },
   "file_extension": ".py",
   "mimetype": "text/x-python",
   "name": "python",
   "nbconvert_exporter": "python",
   "pygments_lexer": "ipython3",
   "version": "3.12.5"
  }
 },
 "nbformat": 4,
 "nbformat_minor": 5
}
