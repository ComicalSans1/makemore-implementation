{
 "cells": [
  {
   "cell_type": "markdown",
   "id": "a2b1fd3d-2f86-4c7d-890d-083b0809845e",
   "metadata": {},
   "source": [
    "[x] E01: Tune the hyperparameters of the training to beat my best validation loss of 2.2\n",
    "\n",
    "E02: I was not careful with the intialization of the network in this video. \\\n",
    "[x] What is the loss you'd get if the predicted probabilities at initialization were perfectly uniform? What loss do we achieve? \\\n",
    "[x] Can you tune the initialization to get a starting loss that is much more similar to (1)? \n",
    "\n",
    "[ ] E03: Read the Bengio et al 2003 paper (link above), implement and try any idea from the paper. Did it work?"
   ]
  },
  {
   "cell_type": "code",
   "execution_count": 10,
   "id": "4a726d00-396d-47ba-b346-800af2ec9712",
   "metadata": {},
   "outputs": [],
   "source": [
    "import torch\n",
    "import numpy as np\n",
    "import matplotlib.pyplot as plt\n",
    "import torch.nn.functional as F\n",
    "%matplotlib inline"
   ]
  },
  {
   "cell_type": "code",
   "execution_count": 11,
   "id": "645544ed-6b7f-4cf3-966f-d89307c7dba8",
   "metadata": {},
   "outputs": [],
   "source": [
    "words = open('names.txt', 'r').read().splitlines()\n",
    "\n",
    "chars = sorted(list(set(\"\".join(words))))\n",
    "stoi = {s:i+1 for i, s in enumerate(chars)}\n",
    "stoi[\".\"] = 0\n",
    "itos = {i:s for s,i in stoi.items()}"
   ]
  },
  {
   "cell_type": "code",
   "execution_count": 12,
   "id": "3312a351-c4a7-4d4d-8b5d-30acc52685dd",
   "metadata": {},
   "outputs": [],
   "source": [
    "def build_dataset(words):\n",
    "    context_len = 3\n",
    "    X, Y = [], []\n",
    "    \n",
    "    for w in words:\n",
    "        context = [0] * context_len\n",
    "    \n",
    "        for l in w + '.':\n",
    "            ix = stoi[l]\n",
    "            X.append(context)\n",
    "            Y.append(ix)\n",
    "            # print(''.join([itos[i] for i in context]), \"->\", itos[ix])\n",
    "            context = context[1:] + [ix]\n",
    "        \n",
    "    X, Y = torch.tensor(X), torch.tensor(Y)\n",
    "    # print(X.shape, Y.shape)\n",
    "        \n",
    "    return X, Y\n",
    "\n",
    "import random\n",
    "random.seed(42)\n",
    "random.shuffle(words)\n",
    "n1 = int(0.8*len(words))\n",
    "n2 = int(0.9*len(words))\n",
    "\n",
    "Xtr, Ytr = build_dataset(words[:n1])\n",
    "Xdev, Ydev = build_dataset(words[n1:n2])\n",
    "Xte, Yte = build_dataset(words[n2:])"
   ]
  },
  {
   "cell_type": "code",
   "execution_count": 13,
   "id": "1f36d4c4-5c9b-4dc4-a97b-54c05adcc34c",
   "metadata": {},
   "outputs": [],
   "source": [
    "C = torch.zeros(27, 10)\n",
    "W1 = torch.zeros(30, 300)\n",
    "b1 = torch.zeros(300)\n",
    "W2 = torch.zeros((300, 27))\n",
    "b2 = torch.zeros(27)\n",
    "\n",
    "# initializing all parameters to 0 gives you the theoretical uniform starting loss of\n",
    "# ln27, ~3.295.\n",
    "# We don't initialize all values uniformly in practice, as this means each neuron recieves the\n",
    "# same update during backpropagation, meaning the model doesn't learn to differentiate\n",
    "# between features."
   ]
  },
  {
   "cell_type": "code",
   "execution_count": 14,
   "id": "231a805a-20ed-4c03-8c11-b8640a9f73a8",
   "metadata": {},
   "outputs": [],
   "source": [
    "C = torch.randn(27, 10)\n",
    "W1 = torch.randn(30, 300)\n",
    "b1 = torch.randn(300)\n",
    "W2 = torch.randn((300, 27))\n",
    "b2 = torch.randn(27)\n",
    "\n",
    "# initializing the values to be completely random gives us a starting loss of \n",
    "# around 30 to 35. average: ~35 \n",
    "# our job is to minimize this starting loss so that it is as close to the \n",
    "# theoretical minimum starting loss."
   ]
  },
  {
   "cell_type": "code",
   "execution_count": 130,
   "id": "c16013cf-7e5a-42a2-bc51-3a272aa1665c",
   "metadata": {},
   "outputs": [],
   "source": [
    "C = torch.randn(27, 10)\n",
    "W1 = torch.randn(30, 300) * 0.01\n",
    "b1 = torch.zeros(300)\n",
    "W2 = torch.randn((300, 27)) * 0.01\n",
    "b2 = torch.zeros(27)\n",
    "\n",
    "# to approach this theoretical uniform loss, we first initialize biases to 0.\n",
    "# this does not affect the performance of the model.\n",
    "# we also initialize wights to values very close to 0. This ensures that there \n",
    "# is still variance in the initialization, but also that the total starting loss\n",
    "# is close to 3.295."
   ]
  },
  {
   "cell_type": "code",
   "execution_count": 57,
   "id": "a7312da6-6481-4696-abd9-e1df0bb67dc1",
   "metadata": {},
   "outputs": [
    {
     "data": {
      "text/plain": [
       "3.2953832"
      ]
     },
     "execution_count": 57,
     "metadata": {},
     "output_type": "execute_result"
    }
   ],
   "source": [
    "def calculate_loss(X, Y):\n",
    "    emb = C[X]\n",
    "    h = torch.tanh(emb.view(emb.size(0), -1) @ W1 + b1) # (32, 100)\n",
    "    logits = h @ W2 + b2 # (32, 27)\n",
    "    loss = F.cross_entropy(logits, Y)\n",
    "\n",
    "    return loss\n",
    "\n",
    "mean_loss = np.mean([calculate_loss(Xtr, Ytr) for i in range(15)])\n",
    "mean_loss"
   ]
  },
  {
   "cell_type": "code",
   "execution_count": 131,
   "id": "0bbe5579-9565-40ff-90f2-c92c639f0b0d",
   "metadata": {},
   "outputs": [
    {
     "data": {
      "text/plain": [
       "17697"
      ]
     },
     "execution_count": 131,
     "metadata": {},
     "output_type": "execute_result"
    }
   ],
   "source": [
    "parameters  = [C, W1, b1, W2, b2]\n",
    "steps = []\n",
    "losses = []\n",
    "\n",
    "for p in parameters:\n",
    "  p.requires_grad = True\n",
    "\n",
    "sum(p.nelement() for p in parameters)"
   ]
  },
  {
   "cell_type": "code",
   "execution_count": 132,
   "id": "14567fec-7b5b-409d-b26a-4dd5dd18e38d",
   "metadata": {},
   "outputs": [],
   "source": [
    "# decay functions\n",
    "\n",
    "def step_decay(i, s1, s2):\n",
    "    lr = 0.1 if i < s1 else (0.01 if i < s2 else 0.001)\n",
    "    return lr\n",
    "\n",
    "def exp_decay(i, lr0=0.1, k=1e-5):\n",
    "    lr = lr0 * (0.99 ** i)\n",
    "    return lr\n",
    "\n",
    "def inverse_root_decay(i, lr0=0.1, t0=10000):\n",
    "    lr = lr0 / ((1 + (i / t0)) ** 0.5)\n",
    "    return lr"
   ]
  },
  {
   "cell_type": "code",
   "execution_count": 133,
   "id": "4fbc8b6b-03e8-4eee-be18-84c8316612f6",
   "metadata": {},
   "outputs": [],
   "source": [
    "num_iter = 50000\n",
    "for i in range(num_iter):\n",
    "    \n",
    "    # minibatch construct\n",
    "    ix = torch.randint(0, Xtr.shape[0], (32,))\n",
    "    \n",
    "    # forward pass\n",
    "    emb = C[Xtr[ix]]\n",
    "    h = torch.tanh(emb.view(emb.size(0), -1) @ W1 + b1)\n",
    "    logits = h @ W2 + b2\n",
    "    loss = F.cross_entropy(logits, Ytr[ix])\n",
    "    \n",
    "    # backward pass\n",
    "    for p in parameters:\n",
    "        p.grad = None\n",
    "    loss.backward()\n",
    "    \n",
    "    # update\n",
    "    # lr = step_decay(i, 20000, 40000)\n",
    "    # lr = exp_decay(i)\n",
    "    lr = inverse_root_decay(i, 0.1, 10000)\n",
    "    for p in parameters:\n",
    "        p.data += -lr * p.grad\n",
    "\n",
    "    steps.append(i)\n",
    "    losses.append(loss.log10().item())"
   ]
  },
  {
   "cell_type": "code",
   "execution_count": 134,
   "id": "099e970f-4472-4e75-baef-9087c2c3e917",
   "metadata": {},
   "outputs": [
    {
     "data": {
      "text/plain": [
       "[<matplotlib.lines.Line2D at 0x17cd2e632f0>]"
      ]
     },
     "execution_count": 134,
     "metadata": {},
     "output_type": "execute_result"
    },
    {
     "data": {
      "image/png": "[encoded data removed]",
      "text/plain": [
       "<Figure size 640x480 with 1 Axes>"
      ]
     },
     "metadata": {},
     "output_type": "display_data"
    }
   ],
   "source": [
    "plt.plot(steps, losses)"
   ]
  },
  {
   "cell_type": "code",
   "execution_count": 135,
   "id": "672d511f-ba1c-4669-990d-9fde7d43ef44",
   "metadata": {},
   "outputs": [
    {
     "name": "stdout",
     "output_type": "stream",
     "text": [
      "Training loss: 2.098369598388672\n",
      "Validation loss: 2.1389002799987793\n",
      "Test loss: 2.1436970233917236\n"
     ]
    }
   ],
   "source": [
    "def calculate_loss(X, Y):\n",
    "    emb = C[X]\n",
    "    h = torch.tanh(emb.view(emb.size(0), -1) @ W1 + b1) # (32, 100)\n",
    "    logits = h @ W2 + b2 # (32, 27)\n",
    "    loss = F.cross_entropy(logits, Y)\n",
    "\n",
    "    return loss\n",
    "\n",
    "loss_tr = calculate_loss(Xtr, Ytr)\n",
    "loss_val = calculate_loss(Xdev, Ydev)\n",
    "loss_te = calculate_loss(Xte, Yte)\n",
    "\n",
    "print(f\"Training loss: {loss_tr}\\nValidation loss: {loss_val}\\nTest loss: {loss_te}\")"
   ]
  },
  {
   "cell_type": "markdown",
   "id": "ee93a0e7-dd21-437d-adbb-673a1ba9b178",
   "metadata": {},
   "source": [
    "**Step Decay 50K iters**:\\\n",
    "Training loss: 2.186199426651001\\\n",
    "Validation loss: 2.197913408279419\\\n",
    "Test loss: 2.1986262798309326\n",
    "\n",
    "**Exponential Decay 50K iters (k = 1e-7)**:\\\n",
    "Training loss: 2.7215478134155273\\\n",
    "Validation loss: 2.7373971843719482\\\n",
    "Test loss: 2.7314894008636475\n",
    "\n",
    "**Inverse Square Root 50K iters (lr0 = 0.1, t0 = 10000)**:\\\n",
    "Training loss: 2.1848747730255127\\\n",
    "Validation loss: 2.1972532272338867\\\n",
    "Test loss: 2.19810152053833\n",
    "\n",
    "#### Thus, We choose inverse square root loss."
   ]
  },
  {
   "cell_type": "markdown",
   "id": "0f68002a-dbed-4000-b59a-3068d9ec26fe",
   "metadata": {},
   "source": [
    "**t0 = 50K, 50K iters**:\n",
    "- Training loss: 2.178662061691284\n",
    "- Validation loss: 2.2019031047821045\n",
    "- Test loss: 2.198951482772827\n",
    "\n",
    "**t0 = 20K, 50K iters**:\n",
    "- Training loss: 2.181793212890625\n",
    "- Validation loss: 2.198199987411499\n",
    "- Test loss: 2.1938960552215576\n",
    " \n",
    "**t0 = 20K, 200K iters**:\n",
    "- Training loss: 2.098369598388672\n",
    "- Validation loss: 2.1389002799987793\n",
    "- Test loss: 2.1436970233917236\n",
    "\n",
    "**t0 = 10K, 200K iters**:\n",
    "- Training loss: 2.1009891033172607\n",
    "- Validation loss: 2.137007474899292\n",
    "- Test loss: 2.136446714401245\n",
    "\n",
    "#### Final Choice: Inverse Square Root (lr0 = 0.1, t0 = 10K)"
   ]
  }
 ],
 "metadata": {
  "kernelspec": {
   "display_name": "Python 3 (ipykernel)",
   "language": "python",
   "name": "python3"
  },
  "language_info": {
   "codemirror_mode": {
    "name": "ipython",
    "version": 3
   },
   "file_extension": ".py",
   "mimetype": "text/x-python",
   "name": "python",
   "nbconvert_exporter": "python",
   "pygments_lexer": "ipython3",
   "version": "3.12.5"
  }
 },
 "nbformat": 4,
 "nbformat_minor": 5
}
