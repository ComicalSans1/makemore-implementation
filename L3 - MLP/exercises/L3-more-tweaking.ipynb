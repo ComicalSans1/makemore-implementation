{
 "cells": [
  {
   "cell_type": "code",
   "execution_count": 1,
   "id": "721bb57a-b4b6-401e-833d-aaa19854fa34",
   "metadata": {},
   "outputs": [],
   "source": [
    "import torch\n",
    "import numpy as np\n",
    "import matplotlib.pyplot as plt\n",
    "import torch.nn.functional as F\n",
    "%matplotlib inline"
   ]
  },
  {
   "cell_type": "code",
   "execution_count": 2,
   "id": "72ad0752-ef72-448f-a580-72460b15ddd6",
   "metadata": {},
   "outputs": [],
   "source": [
    "words = open('names.txt', 'r').read().splitlines()\n",
    "\n",
    "chars = sorted(list(set(\"\".join(words))))\n",
    "stoi = {s:i+1 for i, s in enumerate(chars)}\n",
    "stoi[\".\"] = 0\n",
    "itos = {i:s for s,i in stoi.items()}"
   ]
  },
  {
   "cell_type": "code",
   "execution_count": 3,
   "id": "1979b098-635c-4ef1-9919-7b293f463cab",
   "metadata": {},
   "outputs": [],
   "source": [
    "def build_dataset(words):\n",
    "    context_len = 4\n",
    "    X, Y = [], []\n",
    "    \n",
    "    for w in words:\n",
    "        context = [0] * context_len\n",
    "    \n",
    "        for l in w + '.':\n",
    "            ix = stoi[l]\n",
    "            X.append(context)\n",
    "            Y.append(ix)\n",
    "            # print(''.join([itos[i] for i in context]), \"->\", itos[ix])\n",
    "            context = context[1:] + [ix]\n",
    "        \n",
    "    X, Y = torch.tensor(X), torch.tensor(Y)\n",
    "    # print(X.shape, Y.shape)\n",
    "        \n",
    "    return X, Y\n",
    "\n",
    "import random\n",
    "random.seed(42)\n",
    "random.shuffle(words)\n",
    "n1 = int(0.8*len(words))\n",
    "n2 = int(0.9*len(words))\n",
    "\n",
    "Xtr, Ytr = build_dataset(words[:n1])\n",
    "Xdev, Ydev = build_dataset(words[n1:n2])\n",
    "Xte, Yte = build_dataset(words[n2:])"
   ]
  },
  {
   "cell_type": "code",
   "execution_count": 4,
   "id": "42ad0c55-212b-4cb1-a63e-40822785eb65",
   "metadata": {},
   "outputs": [
    {
     "data": {
      "text/plain": [
       "tensor([[ 0,  0,  0,  0],\n",
       "        [ 0,  0,  0, 25],\n",
       "        [ 0,  0, 25, 21],\n",
       "        ...,\n",
       "        [ 8, 15, 12,  4],\n",
       "        [15, 12,  4,  1],\n",
       "        [12,  4,  1, 14]])"
      ]
     },
     "execution_count": 4,
     "metadata": {},
     "output_type": "execute_result"
    }
   ],
   "source": [
    "Xtr"
   ]
  },
  {
   "cell_type": "code",
   "execution_count": 16,
   "id": "82a9fee8-8555-4ca0-a867-416fa6a414d0",
   "metadata": {},
   "outputs": [],
   "source": [
    "C = torch.randn(27, 10)\n",
    "W1 = torch.randn(40, 300) * 0.01\n",
    "b1 = torch.zeros(300)\n",
    "W2 = torch.randn((300, 27)) * 0.01\n",
    "b2 = torch.zeros(27)"
   ]
  },
  {
   "cell_type": "code",
   "execution_count": 17,
   "id": "51a23d12-915d-4de4-8e0c-db25896e03f0",
   "metadata": {},
   "outputs": [
    {
     "data": {
      "text/plain": [
       "20697"
      ]
     },
     "execution_count": 17,
     "metadata": {},
     "output_type": "execute_result"
    }
   ],
   "source": [
    "parameters  = [C, W1, b1, W2, b2]\n",
    "steps = []\n",
    "losses = []\n",
    "\n",
    "for p in parameters:\n",
    "  p.requires_grad = True\n",
    "\n",
    "sum(p.nelement() for p in parameters)"
   ]
  },
  {
   "cell_type": "code",
   "execution_count": 18,
   "id": "dc6f071e-6970-467b-9c31-0048b9159cab",
   "metadata": {},
   "outputs": [],
   "source": [
    "def inverse_root_decay(i, lr0=0.1, t0=10000):\n",
    "    lr = lr0 / ((1 + (i / t0)) ** 0.5)\n",
    "    return lr\n",
    "\n",
    "num_iter = 50000\n",
    "for i in range(num_iter):\n",
    "    \n",
    "    # minibatch construct\n",
    "    ix = torch.randint(0, Xtr.shape[0], (64,))\n",
    "    \n",
    "    # forward pass\n",
    "    emb = C[Xtr[ix]]\n",
    "    h = torch.tanh(emb.view(emb.size(0), -1) @ W1 + b1)\n",
    "    logits = h @ W2 + b2\n",
    "    loss = F.cross_entropy(logits, Ytr[ix])\n",
    "    \n",
    "    # backward pass\n",
    "    for p in parameters:\n",
    "        p.grad = None\n",
    "    loss.backward()\n",
    "    \n",
    "    # update\n",
    "    # lr = step_decay(i, 20000, 40000)\n",
    "    # lr = exp_decay(i)\n",
    "    lr = inverse_root_decay(i, 0.1, 10000)\n",
    "    for p in parameters:\n",
    "        p.data += -lr * p.grad\n",
    "\n",
    "    steps.append(i)\n",
    "    losses.append(loss.log10().item())"
   ]
  },
  {
   "cell_type": "code",
   "execution_count": 19,
   "id": "83fe2541-7edd-464b-b991-7b208c24ce99",
   "metadata": {},
   "outputs": [
    {
     "data": {
      "text/plain": [
       "[<matplotlib.lines.Line2D at 0x1ddded30410>]"
      ]
     },
     "execution_count": 19,
     "metadata": {},
     "output_type": "execute_result"
    },
    {
     "data": {
      "image/png": "[encoded data removed]",
      "text/plain": [
       "<Figure size 640x480 with 1 Axes>"
      ]
     },
     "metadata": {},
     "output_type": "display_data"
    }
   ],
   "source": [
    "plt.plot(steps, losses)"
   ]
  },
  {
   "cell_type": "code",
   "execution_count": 20,
   "id": "e7f64597-43a8-4cfd-ab01-d646433ad489",
   "metadata": {},
   "outputs": [
    {
     "name": "stdout",
     "output_type": "stream",
     "text": [
      "Training loss: 2.045509099960327\n",
      "Validation loss: 2.093576192855835\n",
      "Test loss: 2.091259717941284\n"
     ]
    }
   ],
   "source": [
    "def calculate_loss(X, Y):\n",
    "    emb = C[X]\n",
    "    h = torch.tanh(emb.view(emb.size(0), -1) @ W1 + b1) # (32, 100)\n",
    "    logits = h @ W2 + b2 # (32, 27)\n",
    "    loss = F.cross_entropy(logits, Y)\n",
    "\n",
    "    return loss\n",
    "\n",
    "loss_tr = calculate_loss(Xtr, Ytr)\n",
    "loss_val = calculate_loss(Xdev, Ydev)\n",
    "loss_te = calculate_loss(Xte, Yte)\n",
    "\n",
    "print(f\"Training loss: {loss_tr}\\nValidation loss: {loss_val}\\nTest loss: {loss_te}\")"
   ]
  },
  {
   "cell_type": "markdown",
   "id": "f8b92e7d-0ea9-4574-a2dd-681ece72f814",
   "metadata": {},
   "source": [
    "#### Context length = 4\n",
    "C = torch.randn(27, 10)\\\n",
    "W1 = torch.randn(40, 300) * 0.01\\\n",
    "b1 = torch.zeros(300)\\\n",
    "W2 = torch.randn((300, 27)) * 0.01\\\n",
    "b2 = torch.zeros(27)\n",
    "\n",
    "**50K iters**:\\\n",
    "Training loss: 2.129967451095581\\\n",
    "Validation loss: 2.1536829471588135\\\n",
    "Test loss: 2.1611523628234863\n",
    "\n",
    "**200K iters**:\\\n",
    "Training loss: 2.023803234100342\\\n",
    "Validation loss: 2.083949327468872\\\n",
    "Test loss: 2.090315103530884"
   ]
  },
  {
   "cell_type": "markdown",
   "id": "f2852b93-79c0-48b0-ac67-541c3b4afe7e",
   "metadata": {},
   "source": [
    "#### Batch size: 64\n",
    "\n",
    "**50K iters**:\\\n",
    "Training loss: 2.080563545227051\\\n",
    "Validation loss: 2.1133739948272705\\\n",
    "Test loss: 2.1183273792266846\n",
    "\n",
    "**200K iters**:\\\n",
    "Training loss: 1.966793179512024\\\n",
    "Validation loss: 2.0594534873962402\\\n",
    "Test loss: 2.0606564235687256"
   ]
  },
  {
   "cell_type": "code",
   "execution_count": 15,
   "id": "3fb0bfe2-74ef-4977-9a70-302fdd2d5cf8",
   "metadata": {},
   "outputs": [
    {
     "name": "stdout",
     "output_type": "stream",
     "text": [
      "kelle.\n",
      "nyelle.\n",
      "dowkee.\n",
      "lelope.\n",
      "anabiya.\n",
      "risaiah.\n",
      "maru.\n",
      "jericely.\n",
      "kendria.\n",
      "yijay.\n"
     ]
    }
   ],
   "source": [
    "g = torch.Generator().manual_seed(2147483647 + 9)\n",
    "\n",
    "block_size = 4\n",
    "for _ in range(10):\n",
    "    \n",
    "    out = []\n",
    "    context = [0] * block_size# initialize with all ...\n",
    "    while True:\n",
    "      emb = C[torch.tensor([context])] # (1,block_size,d)\n",
    "      h = torch.tanh(emb.view(1, -1) @ W1 + b1)\n",
    "      logits = h @ W2 + b2\n",
    "      probs = F.softmax(logits, dim=1)\n",
    "      ix = torch.multinomial(probs, num_samples=1, generator=g).item()\n",
    "      context = context[1:] + [ix]\n",
    "      out.append(ix)\n",
    "      if ix == 0:\n",
    "        break\n",
    "    \n",
    "    print(''.join(itos[i] for i in out))"
   ]
  }
 ],
 "metadata": {
  "kernelspec": {
   "display_name": "Python 3 (ipykernel)",
   "language": "python",
   "name": "python3"
  },
  "language_info": {
   "codemirror_mode": {
    "name": "ipython",
    "version": 3
   },
   "file_extension": ".py",
   "mimetype": "text/x-python",
   "name": "python",
   "nbconvert_exporter": "python",
   "pygments_lexer": "ipython3",
   "version": "3.12.5"
  }
 },
 "nbformat": 4,
 "nbformat_minor": 5
}
