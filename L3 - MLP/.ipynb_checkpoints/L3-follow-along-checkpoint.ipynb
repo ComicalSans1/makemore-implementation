{
 "cells": [
  {
   "cell_type": "code",
   "execution_count": 203,
   "id": "4167a7ae-7fbc-48b1-9b25-70e7326ce003",
   "metadata": {},
   "outputs": [],
   "source": [
    "import torch\n",
    "import numpy as np\n",
    "import matplotlib.pyplot as plt\n",
    "%matplotlib inline"
   ]
  },
  {
   "cell_type": "code",
   "execution_count": 143,
   "id": "09e9ee5e-2aa9-468b-bc86-2fc266fccf8c",
   "metadata": {},
   "outputs": [
    {
     "name": "stdout",
     "output_type": "stream",
     "text": [
      "{1: 'a', 2: 'b', 3: 'c', 4: 'd', 5: 'e', 6: 'f', 7: 'g', 8: 'h', 9: 'i', 10: 'j', 11: 'k', 12: 'l', 13: 'm', 14: 'n', 15: 'o', 16: 'p', 17: 'q', 18: 'r', 19: 's', 20: 't', 21: 'u', 22: 'v', 23: 'w', 24: 'x', 25: 'y', 26: 'z', 0: '.'}\n"
     ]
    }
   ],
   "source": [
    "words = open('names.txt', 'r').read().splitlines()\n",
    "\n",
    "chars = sorted(list(set(\"\".join(words))))\n",
    "stoi = {s:i+1 for i, s in enumerate(chars)}\n",
    "stoi[\".\"] = 0\n",
    "itos = {i:s for s,i in stoi.items()}\n",
    "\n",
    "print(itos)"
   ]
  },
  {
   "cell_type": "code",
   "execution_count": 144,
   "id": "601280b7-3bf4-4dd8-ad4c-276d9b76bafa",
   "metadata": {},
   "outputs": [
    {
     "name": "stdout",
     "output_type": "stream",
     "text": [
      "torch.Size([182625, 3]) torch.Size([182625])\n",
      "torch.Size([22655, 3]) torch.Size([22655])\n",
      "torch.Size([22866, 3]) torch.Size([22866])\n"
     ]
    }
   ],
   "source": [
    "def build_dataset(words):\n",
    "    context_len = 3\n",
    "    X, Y = [], []\n",
    "    \n",
    "    for w in words:\n",
    "        context = [0] * context_len\n",
    "    \n",
    "        for l in w + '.':\n",
    "            ix = stoi[l]\n",
    "            X.append(context)\n",
    "            Y.append(ix)\n",
    "            # print(''.join([itos[i] for i in context]), \"->\", itos[ix])\n",
    "            context = context[1:] + [ix]\n",
    "        \n",
    "    X, Y = torch.tensor(X), torch.tensor(Y)\n",
    "    print(X.shape, Y.shape)\n",
    "        \n",
    "    return X, Y\n",
    "\n",
    "import random\n",
    "random.seed(42)\n",
    "random.shuffle(words)\n",
    "n1 = int(0.8*len(words))\n",
    "n2 = int(0.9*len(words))\n",
    "\n",
    "Xtr, Ytr = build_dataset(words[:n1])\n",
    "Xdev, Ydev = build_dataset(words[n1:n2])\n",
    "Xte, Yte = build_dataset(words[n2:])"
   ]
  },
  {
   "cell_type": "code",
   "execution_count": 145,
   "id": "0bf17f47-0631-4311-a587-282a151ab5a8",
   "metadata": {},
   "outputs": [
    {
     "data": {
      "text/plain": [
       "torch.Size([182625, 3, 2])"
      ]
     },
     "execution_count": 145,
     "metadata": {},
     "output_type": "execute_result"
    }
   ],
   "source": [
    "C = torch.randn(27, 2)\n",
    "emb = C[Xtr] # each element of X(corresponding to each letter in the context) is given the appropriate 2-D weight\n",
    "emb.size()"
   ]
  },
  {
   "cell_type": "code",
   "execution_count": 146,
   "id": "37fce828-564f-41e5-b05b-0bae63385835",
   "metadata": {},
   "outputs": [
    {
     "data": {
      "text/plain": [
       "torch.Size([182625, 6])"
      ]
     },
     "execution_count": 146,
     "metadata": {},
     "output_type": "execute_result"
    }
   ],
   "source": [
    "emb_c = emb.view(Ytr.size(0), -1)\n",
    "emb_c.size()"
   ]
  },
  {
   "cell_type": "code",
   "execution_count": 147,
   "id": "fcd620fc-2164-4c58-8140-d3638b315345",
   "metadata": {},
   "outputs": [],
   "source": [
    "W1 = torch.randn(6, 100)\n",
    "b1 = torch.randn(100)"
   ]
  },
  {
   "cell_type": "code",
   "execution_count": 148,
   "id": "2e977324-aa83-44f0-bfc3-dd8788dce8c1",
   "metadata": {},
   "outputs": [
    {
     "data": {
      "text/plain": [
       "torch.Size([182625, 100])"
      ]
     },
     "execution_count": 148,
     "metadata": {},
     "output_type": "execute_result"
    }
   ],
   "source": [
    "h = torch.tanh(emb_c @ W1 + b1)\n",
    "h.size()"
   ]
  },
  {
   "cell_type": "code",
   "execution_count": 149,
   "id": "b8251341-47d3-47a6-a2ee-6f9147f842cd",
   "metadata": {},
   "outputs": [
    {
     "data": {
      "text/plain": [
       "torch.Size([100, 27])"
      ]
     },
     "execution_count": 149,
     "metadata": {},
     "output_type": "execute_result"
    }
   ],
   "source": [
    "W2 = torch.randn((100, 27))\n",
    "b2 = torch.randn(27)\n",
    "W2.size()"
   ]
  },
  {
   "cell_type": "code",
   "execution_count": 150,
   "id": "fb68e27b-62ee-4f0c-b943-bb80f51a2e1a",
   "metadata": {},
   "outputs": [
    {
     "data": {
      "text/plain": [
       "torch.Size([182625, 27])"
      ]
     },
     "execution_count": 150,
     "metadata": {},
     "output_type": "execute_result"
    }
   ],
   "source": [
    "logits = h @ W2 + b2\n",
    "counts = logits.exp()\n",
    "probs = counts/counts.sum(1, keepdim=True)\n",
    "probs.size()"
   ]
  },
  {
   "cell_type": "code",
   "execution_count": 151,
   "id": "188d7274-5688-4e6a-824c-6763504f8a7c",
   "metadata": {},
   "outputs": [
    {
     "data": {
      "text/plain": [
       "tensor(16.2645)"
      ]
     },
     "execution_count": 151,
     "metadata": {},
     "output_type": "execute_result"
    }
   ],
   "source": [
    "import torch.nn.functional as F\n",
    "\n",
    "loss = -probs[torch.arange(Ytr.shape[0]), Ytr].log().mean()\n",
    "loss = F.cross_entropy(logits, Ytr)\n",
    "loss"
   ]
  },
  {
   "cell_type": "code",
   "execution_count": 266,
   "id": "7f918cb7-4209-4c94-b981-7efc677ff96d",
   "metadata": {},
   "outputs": [],
   "source": [
    "# Consolidation\n",
    "C = torch.randn(27, 10)\n",
    "W1 = torch.randn(30, 300)\n",
    "b1 = torch.randn(300)\n",
    "W2 = torch.randn((300, 27))\n",
    "b2 = torch.randn(27)"
   ]
  },
  {
   "cell_type": "code",
   "execution_count": 267,
   "id": "fa626b8d-8de9-4be2-b6e3-7e183686f79b",
   "metadata": {},
   "outputs": [
    {
     "data": {
      "text/plain": [
       "17697"
      ]
     },
     "execution_count": 267,
     "metadata": {},
     "output_type": "execute_result"
    }
   ],
   "source": [
    "parameters  = [C, W1, b1, W2, b2]\n",
    "steps = []\n",
    "losses = []\n",
    "\n",
    "for p in parameters:\n",
    "  p.requires_grad = True\n",
    "\n",
    "sum(p.nelement() for p in parameters)"
   ]
  },
  {
   "cell_type": "code",
   "execution_count": 281,
   "id": "03a5cdd3-023d-40e5-9c02-613b1f3c01fb",
   "metadata": {},
   "outputs": [],
   "source": [
    "num_iter = 240000\n",
    "for i in range(num_iter):\n",
    "    \n",
    "    # minibatch construct\n",
    "    ix = torch.randint(0, Xtr.shape[0], (32,))\n",
    "    \n",
    "    # forward pass\n",
    "    emb = C[Xtr[ix]]\n",
    "    h = torch.tanh(emb.view(emb.size(0), -1) @ W1 + b1)\n",
    "    logits = h @ W2 + b2\n",
    "    loss = F.cross_entropy(logits, Ytr[ix])\n",
    "    \n",
    "    # backward pass\n",
    "    for p in parameters:\n",
    "        p.grad = None\n",
    "    loss.backward()\n",
    "    \n",
    "    # update\n",
    "    #lr = lrs[i]\n",
    "    lr = 0.1 if i < 100000 else (0.01 if i < 200000 else 0.001) #Set as 0.1 initially, decay by a factor of 10 after ~20000 iterations and checking validation loss\n",
    "    for p in parameters:\n",
    "        p.data += -lr * p.grad\n",
    "\n",
    "    steps.append(i)\n",
    "    losses.append(loss.log10().item())"
   ]
  },
  {
   "cell_type": "code",
   "execution_count": 269,
   "id": "da963b83-5301-4782-944f-b362a4adbd7e",
   "metadata": {},
   "outputs": [
    {
     "data": {
      "text/plain": [
       "[<matplotlib.lines.Line2D at 0x122d4f01ca0>]"
      ]
     },
     "execution_count": 269,
     "metadata": {},
     "output_type": "execute_result"
    },
    {
     "data": {
      "image/png": "[encoded data removed]",
      "text/plain": [
       "<Figure size 640x480 with 1 Axes>"
      ]
     },
     "metadata": {},
     "output_type": "display_data"
    }
   ],
   "source": [
    "plt.plot(steps, losses)"
   ]
  },
  {
   "cell_type": "code",
   "execution_count": 282,
   "id": "354ea199-6eb8-483c-a597-a0b47bf753d2",
   "metadata": {},
   "outputs": [
    {
     "data": {
      "text/plain": [
       "tensor(2.1148, grad_fn=<NllLossBackward0>)"
      ]
     },
     "execution_count": 282,
     "metadata": {},
     "output_type": "execute_result"
    }
   ],
   "source": [
    "emb = C[Xtr] # (32, 3, 2)\n",
    "h = torch.tanh(emb.view(emb.size(0), -1) @ W1 + b1) # (32, 100)\n",
    "logits = h @ W2 + b2 # (32, 27)\n",
    "loss = F.cross_entropy(logits, Ytr)\n",
    "loss"
   ]
  },
  {
   "cell_type": "code",
   "execution_count": 283,
   "id": "1601135f-ad51-4f00-9e3c-8598bfee9c09",
   "metadata": {},
   "outputs": [
    {
     "data": {
      "text/plain": [
       "tensor(2.1684, grad_fn=<NllLossBackward0>)"
      ]
     },
     "execution_count": 283,
     "metadata": {},
     "output_type": "execute_result"
    }
   ],
   "source": [
    "emb = C[Xdev] # (32, 3, 2)\n",
    "h = torch.tanh(emb.view(emb.size(0), -1) @ W1 + b1) # (32, 100)\n",
    "logits = h @ W2 + b2 # (32, 27)\n",
    "loss = F.cross_entropy(logits, Ydev)\n",
    "loss"
   ]
  },
  {
   "cell_type": "code",
   "execution_count": 284,
   "id": "360fc53a-dc57-4b14-b1e1-8c6d9148e4ff",
   "metadata": {},
   "outputs": [
    {
     "data": {
      "text/plain": [
       "tensor(2.1625, grad_fn=<NllLossBackward0>)"
      ]
     },
     "execution_count": 284,
     "metadata": {},
     "output_type": "execute_result"
    }
   ],
   "source": [
    "emb = C[Xte] # (32, 3, 2)\n",
    "h = torch.tanh(emb.view(emb.size(0), -1) @ W1 + b1) # (32, 100)\n",
    "logits = h @ W2 + b2 # (32, 27)\n",
    "loss = F.cross_entropy(logits, Yte)\n",
    "loss"
   ]
  },
  {
   "cell_type": "markdown",
   "id": "12ad3f57-3b43-4a76-a505-72a3f5058cf1",
   "metadata": {},
   "source": [
    "Final losses after 100K iterations at learning rate = 0.1, 100K iterations at learning rate = 0.01 and 40K iterations at learning rate = 0.001:\\\n",
    "Training: ~2.114 \\\n",
    "Validation: ~2.168 \\\n",
    "Test: ~2.162"
   ]
  },
  {
   "cell_type": "code",
   "execution_count": 290,
   "id": "da8e2b62-ee8f-4212-a20e-047aa1a5f9e7",
   "metadata": {},
   "outputs": [
    {
     "name": "stdout",
     "output_type": "stream",
     "text": [
      "mora.\n",
      "kayah.\n",
      "seel.\n",
      "nihah.\n",
      "lorethan.\n",
      "ejdrie.\n",
      "cailee.\n",
      "seliah.\n",
      "mioren.\n",
      "eden.\n"
     ]
    }
   ],
   "source": [
    "# sample from the model\n",
    "g = torch.Generator().manual_seed(2147483647 + 10)\n",
    "\n",
    "block_size = 3\n",
    "for _ in range(10):\n",
    "    \n",
    "    out = []\n",
    "    context = [0] * block_size# initialize with all ...\n",
    "    while True:\n",
    "      emb = C[torch.tensor([context])] # (1,block_size,d)\n",
    "      h = torch.tanh(emb.view(1, -1) @ W1 + b1)\n",
    "      logits = h @ W2 + b2\n",
    "      probs = F.softmax(logits, dim=1)\n",
    "      ix = torch.multinomial(probs, num_samples=1, generator=g).item()\n",
    "      context = context[1:] + [ix]\n",
    "      out.append(ix)\n",
    "      if ix == 0:\n",
    "        break\n",
    "    \n",
    "    print(''.join(itos[i] for i in out))"
   ]
  }
 ],
 "metadata": {
  "kernelspec": {
   "display_name": "Python 3 (ipykernel)",
   "language": "python",
   "name": "python3"
  },
  "language_info": {
   "codemirror_mode": {
    "name": "ipython",
    "version": 3
   },
   "file_extension": ".py",
   "mimetype": "text/x-python",
   "name": "python",
   "nbconvert_exporter": "python",
   "pygments_lexer": "ipython3",
   "version": "3.12.5"
  }
 },
 "nbformat": 4,
 "nbformat_minor": 5
}
