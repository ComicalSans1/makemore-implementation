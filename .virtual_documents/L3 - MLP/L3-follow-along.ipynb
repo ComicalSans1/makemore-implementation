words = open('names.txt', 'r').read().splitlines()

chars = sorted(list(set("".join(words))))
stoi = {s:i+1 for i, s in enumerate(chars)}
stoi["."] = 0
itos = {i:s for s,i in stoi.items()}

print(itos)


import torch

context_len = 3
X, Y = [], []

for w in words[:5]:
    context = [0] * context_len

    for l in w + '.':
        ix = stoi[l]
        X.append(context)
        Y.append(ix)
        print(''.join([itos[i] for i in context]), "->", itos[ix])
        context = context[1:] + [ix]

X, Y = torch.tensor(X), torch.tensor(Y)
print(X.size(), Y.size())


C = torch.randn(27, 2)
emb = C[X] # each element of X(corresponding to each letter in the context) is given the appropriate 2-D weight
emb.size()


emb_c = emb.view(Y.size(0), -1)


W1 = torch.randn(6, 100)
b1 = torch.randn(100)


h = emb_c @ W1
h.size()



